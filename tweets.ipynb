{
 "cells": [
  {
   "cell_type": "markdown",
   "id": "162e1978",
   "metadata": {},
   "source": [
    "# 1. IMPORT LIBRARIES"
   ]
  },
  {
   "cell_type": "code",
   "execution_count": 1,
   "id": "e89e3984",
   "metadata": {},
   "outputs": [],
   "source": [
    "import seaborn as sns\n",
    "import matplotlib.pyplot as plt\n",
    "import pandas as pd\n",
    "import numpy as np\n",
    "import re, string\n",
    "\n",
    "import nltk\n",
    "from nltk.tokenize import TweetTokenizer\n",
    "from nltk.stem.porter import PorterStemmer\n",
    "from nltk.stem.wordnet import WordNetLemmatizer\n",
    "from nltk.corpus import stopwords\n",
    "\n",
    "from textblob import TextBlob\n",
    "from textblob import Word\n",
    "\n",
    "# for model-building\n",
    "from sklearn.model_selection import train_test_split\n",
    "from sklearn.linear_model import LogisticRegression\n",
    "from sklearn.naive_bayes import MultinomialNB\n",
    "from sklearn.metrics import classification_report, f1_score, accuracy_score, confusion_matrix\n",
    "from sklearn.metrics import roc_curve, auc, roc_auc_score\n",
    "\n",
    "# vectorization\n",
    "from sklearn.feature_extraction.text import CountVectorizer\n",
    "from sklearn.feature_extraction.text import TfidfVectorizer\n",
    "from sklearn.feature_extraction.text import CountVectorizer\n",
    "from sklearn.metrics.pairwise import cosine_similarity\n",
    "\n",
    "# for word embedding\n",
    "import gensim\n",
    "from gensim.models import Word2Vec"
   ]
  },
  {
   "cell_type": "markdown",
   "id": "88774f69",
   "metadata": {},
   "source": [
    "# 2. IMPORT DATA"
   ]
  },
  {
   "cell_type": "code",
   "execution_count": 2,
   "id": "3cd47a89",
   "metadata": {},
   "outputs": [
    {
     "data": {
      "text/plain": [
       "<AxesSubplot:ylabel='label'>"
      ]
     },
     "execution_count": 2,
     "metadata": {},
     "output_type": "execute_result"
    },
    {
     "data": {
      "image/png": "[encoded data removed]",
      "text/plain": [
       "<Figure size 432x288 with 1 Axes>"
      ]
     },
     "metadata": {
      "needs_background": "light"
     },
     "output_type": "display_data"
    }
   ],
   "source": [
    "negative_tweets = pd.read_csv(\"data/processedNegative.csv\")\n",
    "neutral_tweets = pd.read_csv(\"data/processedNeutral.csv\")\n",
    "positive_tweets = pd.read_csv(\"data/processedPositive.csv\")\n",
    "\n",
    "negative_df = pd.DataFrame({'tweets':negative_tweets.columns, 'label':0})\n",
    "neutral_df = pd.DataFrame({'tweets':neutral_tweets.columns, 'label':1})\n",
    "positive_df = pd.DataFrame({'tweets':positive_tweets.columns, 'label':2})\n",
    "\n",
    "data = pd.concat([negative_df, neutral_df, positive_df])\n",
    "data = data.sample(frac=1).reset_index(drop=True)\n",
    "\n",
    "x = data['label'].value_counts()\n",
    "sns.barplot(x=x.index, y=x)"
   ]
  },
  {
   "cell_type": "markdown",
   "id": "ee01184d",
   "metadata": {},
   "source": [
    "# 3. PREPROCESS"
   ]
  },
  {
   "cell_type": "code",
   "execution_count": 3,
   "id": "edd4883e",
   "metadata": {},
   "outputs": [
    {
     "data": {
      "text/html": [
       "<div>\n",
       "<style scoped>\n",
       "    .dataframe tbody tr th:only-of-type {\n",
       "        vertical-align: middle;\n",
       "    }\n",
       "\n",
       "    .dataframe tbody tr th {\n",
       "        vertical-align: top;\n",
       "    }\n",
       "\n",
       "    .dataframe thead th {\n",
       "        text-align: right;\n",
       "    }\n",
       "</style>\n",
       "<table border=\"1\" class=\"dataframe\">\n",
       "  <thead>\n",
       "    <tr style=\"text-align: right;\">\n",
       "      <th></th>\n",
       "      <th>preprocessed</th>\n",
       "      <th>no_stopwords</th>\n",
       "      <th>tokenized</th>\n",
       "      <th>label</th>\n",
       "    </tr>\n",
       "  </thead>\n",
       "  <tbody>\n",
       "    <tr>\n",
       "      <th>0</th>\n",
       "      <td>seem i want to drop this account to wuhyungwon...</td>\n",
       "      <td>seem want drop account wuhyungwon unhappy</td>\n",
       "      <td>[seem, want, drop, account, wuhyungwon, unhappy]</td>\n",
       "      <td>0</td>\n",
       "    </tr>\n",
       "    <tr>\n",
       "      <th>1</th>\n",
       "      <td>nice gif happy</td>\n",
       "      <td>nice gif happy</td>\n",
       "      <td>[nice, gif, happy]</td>\n",
       "      <td>2</td>\n",
       "    </tr>\n",
       "    <tr>\n",
       "      <th>2</th>\n",
       "      <td>that would be a great trick happy</td>\n",
       "      <td>would great trick happy</td>\n",
       "      <td>[would, great, trick, happy]</td>\n",
       "      <td>2</td>\n",
       "    </tr>\n",
       "    <tr>\n",
       "      <th>3</th>\n",
       "      <td>uk parliament votes by to in favour of early n...</td>\n",
       "      <td>uk parliament votes favour early national</td>\n",
       "      <td>[uk, parliament, votes, favour, early, national]</td>\n",
       "      <td>1</td>\n",
       "    </tr>\n",
       "    <tr>\n",
       "      <th>4</th>\n",
       "      <td>this is by far my worst day of since january t...</td>\n",
       "      <td>far worst day since january th unhappy crying ...</td>\n",
       "      <td>[far, worst, day, since, january, th, unhappy,...</td>\n",
       "      <td>0</td>\n",
       "    </tr>\n",
       "  </tbody>\n",
       "</table>\n",
       "</div>"
      ],
      "text/plain": [
       "                                        preprocessed  \\\n",
       "0  seem i want to drop this account to wuhyungwon...   \n",
       "1                                     nice gif happy   \n",
       "2                  that would be a great trick happy   \n",
       "3  uk parliament votes by to in favour of early n...   \n",
       "4  this is by far my worst day of since january t...   \n",
       "\n",
       "                                        no_stopwords  \\\n",
       "0          seem want drop account wuhyungwon unhappy   \n",
       "1                                     nice gif happy   \n",
       "2                            would great trick happy   \n",
       "3          uk parliament votes favour early national   \n",
       "4  far worst day since january th unhappy crying ...   \n",
       "\n",
       "                                           tokenized  label  \n",
       "0   [seem, want, drop, account, wuhyungwon, unhappy]      0  \n",
       "1                                 [nice, gif, happy]      2  \n",
       "2                       [would, great, trick, happy]      2  \n",
       "3   [uk, parliament, votes, favour, early, national]      1  \n",
       "4  [far, worst, day, since, january, th, unhappy,...      0  "
      ]
     },
     "execution_count": 3,
     "metadata": {},
     "output_type": "execute_result"
    }
   ],
   "source": [
    "tokenizer = nltk.tokenize.WordPunctTokenizer()\n",
    "\n",
    "def preprocess(text):\n",
    "    text = text.lower() \n",
    "    text = text.strip()  \n",
    "    text = re.compile('<.*?>').sub('', text) \n",
    "    text = re.compile('[%s]' % re.escape(string.punctuation)).sub(' ', text)  \n",
    "    text = re.sub('\\s+', ' ', text)  \n",
    "    text = re.sub(r'\\[[0-9]*\\]',' ',text) \n",
    "    text = re.sub(r'[^\\w\\s]', '', str(text).lower().strip())\n",
    "    text = re.sub(r'\\d',' ',text) \n",
    "    text = re.sub(r'\\s+',' ',text) \n",
    "    return text\n",
    "\n",
    "def stopword(string):\n",
    "    a= [i for i in string.split() if i not in stopwords.words('english')]\n",
    "    return ' '.join(a)\n",
    "\n",
    "data['preprocessed'] = data['tweets'].apply(lambda x: preprocess(x))\n",
    "data['no_stopwords'] = data['preprocessed'].apply(lambda x: stopword(x))\n",
    "data['tokenized'] = data['no_stopwords'].apply(tokenizer.tokenize)\n",
    "data[['preprocessed', 'no_stopwords', 'tokenized', 'label']].head()"
   ]
  },
  {
   "cell_type": "markdown",
   "id": "fc215774",
   "metadata": {},
   "source": [
    "# 4. Misspelling correction (choose one)\n",
    "\n",
    "### 4.1. choose this if u want to make correction (take time)"
   ]
  },
  {
   "cell_type": "code",
   "execution_count": 4,
   "id": "154da250",
   "metadata": {},
   "outputs": [
    {
     "data": {
      "text/html": [
       "<div>\n",
       "<style scoped>\n",
       "    .dataframe tbody tr th:only-of-type {\n",
       "        vertical-align: middle;\n",
       "    }\n",
       "\n",
       "    .dataframe tbody tr th {\n",
       "        vertical-align: top;\n",
       "    }\n",
       "\n",
       "    .dataframe thead th {\n",
       "        text-align: right;\n",
       "    }\n",
       "</style>\n",
       "<table border=\"1\" class=\"dataframe\">\n",
       "  <thead>\n",
       "    <tr style=\"text-align: right;\">\n",
       "      <th></th>\n",
       "      <th>tokenized</th>\n",
       "      <th>corrected</th>\n",
       "    </tr>\n",
       "  </thead>\n",
       "  <tbody>\n",
       "    <tr>\n",
       "      <th>0</th>\n",
       "      <td>[seem, want, drop, account, wuhyungwon, unhappy]</td>\n",
       "      <td>[seem, want, drop, account, wuhyungwon, unhappy]</td>\n",
       "    </tr>\n",
       "    <tr>\n",
       "      <th>1</th>\n",
       "      <td>[nice, gif, happy]</td>\n",
       "      <td>[nice, if, happy]</td>\n",
       "    </tr>\n",
       "    <tr>\n",
       "      <th>2</th>\n",
       "      <td>[would, great, trick, happy]</td>\n",
       "      <td>[would, great, trick, happy]</td>\n",
       "    </tr>\n",
       "    <tr>\n",
       "      <th>3</th>\n",
       "      <td>[uk, parliament, votes, favour, early, national]</td>\n",
       "      <td>[up, parliament, votes, favour, early, national]</td>\n",
       "    </tr>\n",
       "    <tr>\n",
       "      <th>4</th>\n",
       "      <td>[far, worst, day, since, january, th, unhappy,...</td>\n",
       "      <td>[far, worst, day, since, january, th, unhappy,...</td>\n",
       "    </tr>\n",
       "  </tbody>\n",
       "</table>\n",
       "</div>"
      ],
      "text/plain": [
       "                                           tokenized  \\\n",
       "0   [seem, want, drop, account, wuhyungwon, unhappy]   \n",
       "1                                 [nice, gif, happy]   \n",
       "2                       [would, great, trick, happy]   \n",
       "3   [uk, parliament, votes, favour, early, national]   \n",
       "4  [far, worst, day, since, january, th, unhappy,...   \n",
       "\n",
       "                                           corrected  \n",
       "0   [seem, want, drop, account, wuhyungwon, unhappy]  \n",
       "1                                  [nice, if, happy]  \n",
       "2                       [would, great, trick, happy]  \n",
       "3   [up, parliament, votes, favour, early, national]  \n",
       "4  [far, worst, day, since, january, th, unhappy,...  "
      ]
     },
     "execution_count": 4,
     "metadata": {},
     "output_type": "execute_result"
    }
   ],
   "source": [
    "def spell_correction(list_tokens):\n",
    "    ret_list = []\n",
    "    for token in list_tokens:\n",
    "        w = Word(token)\n",
    "        if (w.spellcheck()[0][1] != 1.0):\n",
    "            ret_list.append(w.correct())\n",
    "        else:\n",
    "            ret_list.append(w)\n",
    "    return ret_list\n",
    "\n",
    "data['corrected'] = data['tokenized'].apply(spell_correction)\n",
    "data[['tokenized', 'corrected']].head()"
   ]
  },
  {
   "cell_type": "markdown",
   "id": "c9c73d1e",
   "metadata": {},
   "source": [
    "### 4.2. or choose this if u dont want to make correction"
   ]
  },
  {
   "cell_type": "code",
   "execution_count": null,
   "id": "c87ae03b",
   "metadata": {
    "scrolled": false
   },
   "outputs": [],
   "source": [
    "data['corrected'] = data['tokenized']\n",
    "data[['tokenized', 'corrected']].head()"
   ]
  },
  {
   "cell_type": "markdown",
   "id": "c70cb32f",
   "metadata": {},
   "source": [
    "# 5. Stemmed/lemmed/stemmed+corr/lemmed+corr"
   ]
  },
  {
   "cell_type": "code",
   "execution_count": 5,
   "id": "1a7e14e6",
   "metadata": {
    "scrolled": true
   },
   "outputs": [
    {
     "data": {
      "text/html": [
       "<div>\n",
       "<style scoped>\n",
       "    .dataframe tbody tr th:only-of-type {\n",
       "        vertical-align: middle;\n",
       "    }\n",
       "\n",
       "    .dataframe tbody tr th {\n",
       "        vertical-align: top;\n",
       "    }\n",
       "\n",
       "    .dataframe thead th {\n",
       "        text-align: right;\n",
       "    }\n",
       "</style>\n",
       "<table border=\"1\" class=\"dataframe\">\n",
       "  <thead>\n",
       "    <tr style=\"text-align: right;\">\n",
       "      <th></th>\n",
       "      <th>tokenized</th>\n",
       "      <th>stemmed</th>\n",
       "      <th>lemmed</th>\n",
       "      <th>stemmed+corrected</th>\n",
       "      <th>lemmed+corrected</th>\n",
       "    </tr>\n",
       "  </thead>\n",
       "  <tbody>\n",
       "    <tr>\n",
       "      <th>0</th>\n",
       "      <td>[seem, want, drop, account, wuhyungwon, unhappy]</td>\n",
       "      <td>seem want drop account wuhyungwon unhappi</td>\n",
       "      <td>seem want drop account wuhyungwon unhappy</td>\n",
       "      <td>seem want drop account wuhyungwon unhappi</td>\n",
       "      <td>seem want drop account wuhyungwon unhappy</td>\n",
       "    </tr>\n",
       "    <tr>\n",
       "      <th>1</th>\n",
       "      <td>[nice, gif, happy]</td>\n",
       "      <td>nice gif happi</td>\n",
       "      <td>nice gif happy</td>\n",
       "      <td>nice if happi</td>\n",
       "      <td>nice if happy</td>\n",
       "    </tr>\n",
       "    <tr>\n",
       "      <th>2</th>\n",
       "      <td>[would, great, trick, happy]</td>\n",
       "      <td>would great trick happi</td>\n",
       "      <td>would great trick happy</td>\n",
       "      <td>would great trick happi</td>\n",
       "      <td>would great trick happy</td>\n",
       "    </tr>\n",
       "    <tr>\n",
       "      <th>3</th>\n",
       "      <td>[uk, parliament, votes, favour, early, national]</td>\n",
       "      <td>uk parliament vote favour earli nation</td>\n",
       "      <td>uk parliament vote favour early national</td>\n",
       "      <td>up parliament vote favour earli nation</td>\n",
       "      <td>up parliament vote favour early national</td>\n",
       "    </tr>\n",
       "    <tr>\n",
       "      <th>4</th>\n",
       "      <td>[far, worst, day, since, january, th, unhappy,...</td>\n",
       "      <td>far worst day sinc januari th unhappi cri cri</td>\n",
       "      <td>far worst day since january th unhappy cry cry</td>\n",
       "      <td>far worst day sinc januari th unhappi cri cri</td>\n",
       "      <td>far worst day since january th unhappy cry cry</td>\n",
       "    </tr>\n",
       "  </tbody>\n",
       "</table>\n",
       "</div>"
      ],
      "text/plain": [
       "                                           tokenized  \\\n",
       "0   [seem, want, drop, account, wuhyungwon, unhappy]   \n",
       "1                                 [nice, gif, happy]   \n",
       "2                       [would, great, trick, happy]   \n",
       "3   [uk, parliament, votes, favour, early, national]   \n",
       "4  [far, worst, day, since, january, th, unhappy,...   \n",
       "\n",
       "                                         stemmed  \\\n",
       "0      seem want drop account wuhyungwon unhappi   \n",
       "1                                 nice gif happi   \n",
       "2                        would great trick happi   \n",
       "3         uk parliament vote favour earli nation   \n",
       "4  far worst day sinc januari th unhappi cri cri   \n",
       "\n",
       "                                           lemmed  \\\n",
       "0       seem want drop account wuhyungwon unhappy   \n",
       "1                                  nice gif happy   \n",
       "2                         would great trick happy   \n",
       "3        uk parliament vote favour early national   \n",
       "4  far worst day since january th unhappy cry cry   \n",
       "\n",
       "                               stemmed+corrected  \\\n",
       "0      seem want drop account wuhyungwon unhappi   \n",
       "1                                  nice if happi   \n",
       "2                        would great trick happi   \n",
       "3         up parliament vote favour earli nation   \n",
       "4  far worst day sinc januari th unhappi cri cri   \n",
       "\n",
       "                                 lemmed+corrected  \n",
       "0       seem want drop account wuhyungwon unhappy  \n",
       "1                                   nice if happy  \n",
       "2                         would great trick happy  \n",
       "3        up parliament vote favour early national  \n",
       "4  far worst day since january th unhappy cry cry  "
      ]
     },
     "execution_count": 5,
     "metadata": {},
     "output_type": "execute_result"
    }
   ],
   "source": [
    "stemmer = nltk.stem.PorterStemmer()\n",
    "lememr = nltk.stem.WordNetLemmatizer()\n",
    "\n",
    "def stem_words(tokenized_string):\n",
    "    return (\" \".join(stemmer.stem(token) for token in tokenized_string))\n",
    "\n",
    "def lem_words(tokenized_string):\n",
    "    return (\" \".join(lememr.lemmatize(token) for token in tokenized_string))\n",
    "\n",
    "data['stemmed'] = data['tokenized'].apply(lambda x: stem_words(x))\n",
    "data['lemmed'] = data['tokenized'].apply(lambda x: lem_words(x))\n",
    "data['stemmed+corrected'] = data['corrected'].apply(lambda x: stem_words(x))\n",
    "data['lemmed+corrected'] = data['corrected'].apply(lambda x: lem_words(x))\n",
    "data[['tokenized', 'stemmed', 'lemmed', 'stemmed+corrected', 'lemmed+corrected']].head()"
   ]
  },
  {
   "cell_type": "markdown",
   "id": "d04a2ba2",
   "metadata": {},
   "source": [
    "# 6. Find similar tweets"
   ]
  },
  {
   "cell_type": "code",
   "execution_count": 6,
   "id": "46586173",
   "metadata": {},
   "outputs": [],
   "source": [
    "def print_most_similar(index_list, dataframe):\n",
    "    for i in range(10):\n",
    "        tmp_dict = index_list[i]\n",
    "        for key in tmp_dict.keys():\n",
    "            tmp_key = key\n",
    "        print(\"{0}: {1}\\n{2}: {3}\\n cos:{4}\\n\\n\".format(tmp_key, \n",
    "                                                        dataframe[tmp_key],\n",
    "                                                        tmp_dict[tmp_key][0],\n",
    "                                                        dataframe[tmp_dict[tmp_key][0]],\n",
    "                                                        tmp_dict[tmp_key][1]))\n",
    "\n",
    "def find_similar(dataframe):\n",
    "    vectorizer = CountVectorizer()\n",
    "    X = vectorizer.fit_transform(dataframe).toarray()\n",
    "    cos_sim = cosine_similarity(X)\n",
    "    similarity_df = pd.DataFrame(cos_sim)\n",
    "\n",
    "    similarity_list = []\n",
    "\n",
    "    for i in range(similarity_df.shape[0]):\n",
    "        x = similarity_df[i].nlargest(n=2)\n",
    "        if x.iloc[1] >= 0.95 and i != x.index[1]:\n",
    "            similarity_list.append({i:[x.index[1], x.iloc[1]]})\n",
    "\n",
    "    print_most_similar(similarity_list, dataframe)"
   ]
  },
  {
   "cell_type": "markdown",
   "id": "1ed8bf27",
   "metadata": {},
   "source": [
    "## 6.1. Similar default"
   ]
  },
  {
   "cell_type": "code",
   "execution_count": 7,
   "id": "e08b71fe",
   "metadata": {},
   "outputs": [
    {
     "name": "stdout",
     "output_type": "stream",
     "text": [
      "2: That would be a great trick happy\n",
      "832: That would be a great trick happy.6\n",
      " cos:1.0000000000000002\n",
      "\n",
      "\n",
      "10: Good evening happy.1\n",
      "100: Good evening happy\n",
      " cos:1.0000000000000002\n",
      "\n",
      "\n",
      "11: US gives a scare\n",
      "1527: US gives a scare.1\n",
      " cos:1.0000000000000002\n",
      "\n",
      "\n",
      "13: thanks b happy\n",
      "552: .Thanks happy\n",
      " cos:0.9999999999999998\n",
      "\n",
      "\n",
      "15: YG should have sent them to MCD. I want to see them holding the trophy unhappy  anyways .9\n",
      "909: YG should have sent them to MCD. I want to see them holding the trophy unhappy  anyways \n",
      " cos:1.0\n",
      "\n",
      "\n",
      "18: Definitely my arms unhappy  .4\n",
      "864: Definitely my arms unhappy  .5\n",
      " cos:1.0\n",
      "\n",
      "\n",
      "21: This never happened with our happy.1\n",
      "3464: This never happened with our happy\n",
      " cos:1.0000000000000002\n",
      "\n",
      "\n",
      "36: Thanks for the recent follow Happy to connect happy  have a great Thursday. Get it.2\n",
      "2174: Thanks for the recent follow Happy to connect happy  have a great Thursday. Get it.1\n",
      " cos:1.0\n",
      "\n",
      "\n",
      "46: Stats for the week have arrived. 1 new follower and NO unfollowers happy  via.2\n",
      "785: Stats for the week have arrived. 1 new follower and NO unfollowers happy  via.1\n",
      " cos:0.9999999999999998\n",
      "\n",
      "\n",
      "64: Thanks for the recent follow Happy to connect happy  have a great Thursday..28\n",
      "506: Thanks for the recent follow Happy to connect happy  have a great Thursday..9\n",
      " cos:0.966091783079296\n",
      "\n",
      "\n"
     ]
    }
   ],
   "source": [
    "find_similar(data['tweets'])"
   ]
  },
  {
   "cell_type": "markdown",
   "id": "5e7918d1",
   "metadata": {},
   "source": [
    "## 6.2. Similar stemmed"
   ]
  },
  {
   "cell_type": "code",
   "execution_count": 8,
   "id": "9be66b4b",
   "metadata": {},
   "outputs": [
    {
     "name": "stdout",
     "output_type": "stream",
     "text": [
      "2: would great trick happi\n",
      "524: would great trick happi\n",
      " cos:1.0\n",
      "\n",
      "\n",
      "5: wait u unhappi\n",
      "56: wait unhappi\n",
      " cos:0.9999999999999998\n",
      "\n",
      "\n",
      "10: good even happi\n",
      "100: good even happi\n",
      " cos:1.0000000000000002\n",
      "\n",
      "\n",
      "11: us give scare\n",
      "1527: us give scare\n",
      " cos:1.0000000000000002\n",
      "\n",
      "\n",
      "13: thank b happi\n",
      "377: thank happi\n",
      " cos:0.9999999999999998\n",
      "\n",
      "\n",
      "15: yg sent mcd want see hold trophi unhappi anyway\n",
      "909: yg sent mcd want see hold trophi unhappi anyway\n",
      " cos:1.0000000000000002\n",
      "\n",
      "\n",
      "16: miss unhappi\n",
      "196: miss unhappi\n",
      " cos:0.9999999999999998\n",
      "\n",
      "\n",
      "18: definit arm unhappi\n",
      "144: definit arm unhappi\n",
      " cos:1.0000000000000002\n",
      "\n",
      "\n",
      "21: never happen happi\n",
      "3464: never happen happi\n",
      " cos:1.0000000000000002\n",
      "\n",
      "\n",
      "36: thank recent follow happi connect happi great thursday get\n",
      "1828: thank recent follow happi connect happi great thursday get\n",
      " cos:1.0\n",
      "\n",
      "\n"
     ]
    }
   ],
   "source": [
    "find_similar(data['stemmed'])"
   ]
  },
  {
   "cell_type": "markdown",
   "id": "10ecaa55",
   "metadata": {},
   "source": [
    "## 6.3. Similar lemmed"
   ]
  },
  {
   "cell_type": "code",
   "execution_count": 9,
   "id": "3616cdd8",
   "metadata": {},
   "outputs": [
    {
     "name": "stdout",
     "output_type": "stream",
     "text": [
      "2: would great trick happy\n",
      "524: would great trick happy\n",
      " cos:1.0\n",
      "\n",
      "\n",
      "5: waited u unhappy\n",
      "56: waited unhappy\n",
      " cos:0.9999999999999998\n",
      "\n",
      "\n",
      "10: good evening happy\n",
      "100: good evening happy\n",
      " cos:1.0000000000000002\n",
      "\n",
      "\n",
      "11: u give scare\n",
      "1527: u give scare\n",
      " cos:0.9999999999999998\n",
      "\n",
      "\n",
      "13: thanks b happy\n",
      "552: thanks happy\n",
      " cos:0.9999999999999998\n",
      "\n",
      "\n",
      "15: yg sent mcd want see holding trophy unhappy anyways\n",
      "909: yg sent mcd want see holding trophy unhappy anyways\n",
      " cos:1.0000000000000002\n",
      "\n",
      "\n",
      "16: miss unhappy\n",
      "196: miss unhappy\n",
      " cos:0.9999999999999998\n",
      "\n",
      "\n",
      "18: definitely arm unhappy\n",
      "144: definitely arm unhappy\n",
      " cos:1.0000000000000002\n",
      "\n",
      "\n",
      "21: never happened happy\n",
      "3464: never happened happy\n",
      " cos:1.0000000000000002\n",
      "\n",
      "\n",
      "36: thanks recent follow happy connect happy great thursday get\n",
      "1828: thanks recent follow happy connect happy great thursday get\n",
      " cos:1.0\n",
      "\n",
      "\n"
     ]
    }
   ],
   "source": [
    "find_similar(data['lemmed'])"
   ]
  },
  {
   "cell_type": "markdown",
   "id": "d12ab006",
   "metadata": {},
   "source": [
    "## 6.4. Similar stemmed+corrected"
   ]
  },
  {
   "cell_type": "code",
   "execution_count": 10,
   "id": "f3f603b7",
   "metadata": {},
   "outputs": [
    {
     "name": "stdout",
     "output_type": "stream",
     "text": [
      "2: would great trick happi\n",
      "524: would great trick happi\n",
      " cos:1.0\n",
      "\n",
      "\n",
      "5: wait u unhappi\n",
      "56: wait unhappi\n",
      " cos:0.9999999999999998\n",
      "\n",
      "\n",
      "10: good even happi\n",
      "100: good even happi\n",
      " cos:1.0000000000000002\n",
      "\n",
      "\n",
      "11: us give scare\n",
      "1527: us give scare\n",
      " cos:1.0000000000000002\n",
      "\n",
      "\n",
      "13: thank b happi\n",
      "377: thank happi\n",
      " cos:0.9999999999999998\n",
      "\n",
      "\n",
      "15: g sent mud want see hold trophi unhappi anyway\n",
      "909: g sent mud want see hold trophi unhappi anyway\n",
      " cos:0.9999999999999998\n",
      "\n",
      "\n",
      "16: miss unhappi\n",
      "196: miss unhappi\n",
      " cos:0.9999999999999998\n",
      "\n",
      "\n",
      "18: definit arm unhappi\n",
      "144: definit arm unhappi\n",
      " cos:1.0000000000000002\n",
      "\n",
      "\n",
      "21: never happen happi\n",
      "3464: never happen happi\n",
      " cos:1.0000000000000002\n",
      "\n",
      "\n",
      "36: thank recent follow happi connect happi great thursday get\n",
      "1828: thank recent follow happi connect happi great thursday get\n",
      " cos:1.0\n",
      "\n",
      "\n"
     ]
    }
   ],
   "source": [
    "find_similar(data['stemmed+corrected'])"
   ]
  },
  {
   "cell_type": "markdown",
   "id": "27ea5d5b",
   "metadata": {},
   "source": [
    "## 6.5. Similar lemmed+corrected"
   ]
  },
  {
   "cell_type": "code",
   "execution_count": 11,
   "id": "8221e51c",
   "metadata": {},
   "outputs": [
    {
     "name": "stdout",
     "output_type": "stream",
     "text": [
      "2: would great trick happy\n",
      "524: would great trick happy\n",
      " cos:1.0\n",
      "\n",
      "\n",
      "5: waited u unhappy\n",
      "56: waited unhappy\n",
      " cos:0.9999999999999998\n",
      "\n",
      "\n",
      "10: good evening happy\n",
      "100: good evening happy\n",
      " cos:1.0000000000000002\n",
      "\n",
      "\n",
      "11: u give scare\n",
      "1527: u give scare\n",
      " cos:0.9999999999999998\n",
      "\n",
      "\n",
      "13: thanks b happy\n",
      "552: thanks happy\n",
      " cos:0.9999999999999998\n",
      "\n",
      "\n",
      "15: g sent mud want see holding trophy unhappy anyways\n",
      "909: g sent mud want see holding trophy unhappy anyways\n",
      " cos:0.9999999999999998\n",
      "\n",
      "\n",
      "16: miss unhappy\n",
      "196: miss unhappy\n",
      " cos:0.9999999999999998\n",
      "\n",
      "\n",
      "18: definitely arm unhappy\n",
      "144: definitely arm unhappy\n",
      " cos:1.0000000000000002\n",
      "\n",
      "\n",
      "21: never happened happy\n",
      "3464: never happened happy\n",
      " cos:1.0000000000000002\n",
      "\n",
      "\n",
      "36: thanks recent follow happy connect happy great thursday get\n",
      "1828: thanks recent follow happy connect happy great thursday get\n",
      " cos:1.0\n",
      "\n",
      "\n"
     ]
    }
   ],
   "source": [
    "find_similar(data['lemmed+corrected'])"
   ]
  },
  {
   "cell_type": "markdown",
   "id": "a7d34e1c",
   "metadata": {},
   "source": [
    "# 7. Model training\n",
    "## 7.1 Split data"
   ]
  },
  {
   "cell_type": "code",
   "execution_count": 24,
   "id": "8bc3fe7c",
   "metadata": {},
   "outputs": [],
   "source": [
    "#SPLITTING THE TRAINING DATASET INTO TRAIN AND TEST\n",
    "X_train, X_test, y_train, y_test = train_test_split(data[\"lemmed+corrected\"],data[\"label\"],test_size=0.2)\n",
    "\n",
    "#Word2Vec\n",
    "# Word2Vec runs on tokenized sentences\n",
    "X_train_tok= [nltk.word_tokenize(i) for i in X_train]  \n",
    "X_test_tok= [nltk.word_tokenize(i) for i in X_test]"
   ]
  },
  {
   "cell_type": "markdown",
   "id": "b4ac9147",
   "metadata": {},
   "source": [
    "## 7.2 Create TFIDF and W2Vec"
   ]
  },
  {
   "cell_type": "code",
   "execution_count": 25,
   "id": "7a3316c9",
   "metadata": {},
   "outputs": [],
   "source": [
    "#Tf-Idf\n",
    "tfidf_vectorizer = TfidfVectorizer(use_idf=True)\n",
    "X_train_vectors_tfidf = tfidf_vectorizer.fit_transform(X_train) \n",
    "X_test_vectors_tfidf = tfidf_vectorizer.transform(X_test)\n",
    "\n",
    "#building Word2Vec model\n",
    "class MeanEmbeddingVectorizer(object):\n",
    "    def __init__(self, word2vec):\n",
    "        self.word2vec = word2vec\n",
    "        self.dim = len(next(iter(word2vec.values())))\n",
    "    def fit(self, X, y):\n",
    "            return self\n",
    "\n",
    "    def transform(self, X):\n",
    "            return np.array([\n",
    "                np.mean([self.word2vec[w] for w in words if w in self.word2vec]\n",
    "                         or [np.zeros(self.dim)], axis=0)\n",
    "                         for words in X])\n",
    "\n",
    "data['clean_data_tokens'] = [nltk.word_tokenize(i) for i in data[\"lemmed+corrected\"]]\n",
    "model = Word2Vec(data['clean_data_tokens'],min_count=1)\n",
    "w2v = dict(zip(model.wv.index_to_key, model.wv.vectors))\n",
    "modelw = MeanEmbeddingVectorizer(w2v)\n",
    "\n",
    "# converting text to numerical data using Word2Vec\n",
    "X_train_vectors_w2v = modelw.transform(X_train_tok)\n",
    "X_test_vectors_w2v = modelw.transform(X_test_tok)"
   ]
  },
  {
   "cell_type": "markdown",
   "id": "26b55fc7",
   "metadata": {},
   "source": [
    "## 7.3 Training TFIDF model"
   ]
  },
  {
   "cell_type": "code",
   "execution_count": 26,
   "id": "5a1b1069",
   "metadata": {},
   "outputs": [
    {
     "name": "stdout",
     "output_type": "stream",
     "text": [
      "              precision    recall  f1-score   support\n",
      "\n",
      "           0       0.93      0.80      0.86       205\n",
      "           1       0.85      0.96      0.90       322\n",
      "           2       0.90      0.85      0.87       248\n",
      "\n",
      "    accuracy                           0.88       775\n",
      "   macro avg       0.89      0.87      0.88       775\n",
      "weighted avg       0.88      0.88      0.88       775\n",
      "\n",
      "0.88\n"
     ]
    }
   ],
   "source": [
    "#FITTING THE CLASSIFICATION MODEL using Logistic Regression(tf-idf)\n",
    "lr_tfidf=LogisticRegression(solver = 'liblinear', C=10, penalty = 'l2')\n",
    "lr_tfidf.fit(X_train_vectors_tfidf, y_train)  \n",
    "#Predict y value for test dataset\n",
    "y_predict = lr_tfidf.predict(X_test_vectors_tfidf)\n",
    "print(classification_report(y_test,y_predict))\n",
    "print(accuracy_score(y_test, y_predict))"
   ]
  },
  {
   "cell_type": "markdown",
   "id": "c545f2e6",
   "metadata": {},
   "source": [
    "## 7.3 Training W2Vec model"
   ]
  },
  {
   "cell_type": "code",
   "execution_count": 27,
   "id": "7163edeb",
   "metadata": {
    "scrolled": true
   },
   "outputs": [
    {
     "name": "stdout",
     "output_type": "stream",
     "text": [
      "              precision    recall  f1-score   support\n",
      "\n",
      "           0       0.73      0.65      0.69       205\n",
      "           1       0.66      0.90      0.76       322\n",
      "           2       0.93      0.58      0.71       248\n",
      "\n",
      "    accuracy                           0.73       775\n",
      "   macro avg       0.78      0.71      0.72       775\n",
      "weighted avg       0.77      0.73      0.73       775\n",
      "\n",
      "0.7316129032258064\n"
     ]
    }
   ],
   "source": [
    "#FITTING THE CLASSIFICATION MODEL using Logistic Regression (W2v)\n",
    "lr_w2v=LogisticRegression(solver = 'liblinear', C=10, penalty = 'l2')\n",
    "lr_w2v.fit(X_train_vectors_w2v, y_train)  #model\n",
    "#Predict y value for test dataset\n",
    "y_predict = lr_w2v.predict(X_test_vectors_w2v)\n",
    "print(classification_report(y_test,y_predict))\n",
    "print(accuracy_score(y_test, y_predict))"
   ]
  },
  {
   "cell_type": "code",
   "execution_count": null,
   "id": "1dc27f68",
   "metadata": {},
   "outputs": [],
   "source": []
  }
 ],
 "metadata": {
  "kernelspec": {
   "display_name": "Python 3 (ipykernel)",
   "language": "python",
   "name": "python3"
  },
  "language_info": {
   "codemirror_mode": {
    "name": "ipython",
    "version": 3
   },
   "file_extension": ".py",
   "mimetype": "text/x-python",
   "name": "python",
   "nbconvert_exporter": "python",
   "pygments_lexer": "ipython3",
   "version": "3.10.4"
  }
 },
 "nbformat": 4,
 "nbformat_minor": 5
}
